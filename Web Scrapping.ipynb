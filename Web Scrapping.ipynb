{
 "cells": [
  {
   "cell_type": "markdown",
   "id": "d4996498",
   "metadata": {},
   "source": [
    "## Objective- \n",
    "To scrap essential details of a particular product from amazon"
   ]
  },
  {
   "cell_type": "markdown",
   "id": "3d368b92",
   "metadata": {},
   "source": [
    "### Steps- \n",
    "1. importing necessary librarires"
   ]
  },
  {
   "cell_type": "code",
   "execution_count": 1,
   "id": "eabfa113",
   "metadata": {},
   "outputs": [],
   "source": [
    "import pandas as pd\n",
    "import requests\n",
    "from bs4 import BeautifulSoup"
   ]
  },
  {
   "cell_type": "markdown",
   "id": "a4a8d4fd",
   "metadata": {},
   "source": [
    "2. Get required url, in our case it's amazon.in"
   ]
  },
  {
   "cell_type": "code",
   "execution_count": 12,
   "id": "20894537",
   "metadata": {},
   "outputs": [],
   "source": [
    "url = \"https://www.amazon.in/s?i=electronics&bbn=1389401031&rh=n%3A976419031%2Cn%3A1389401031%2Cn%3A1389432031&dc&fs=true&ds=v1%3Ai%2BH0fPFHdOGykmfdWGXgTLrurfsM3aMilf88yBGa5XU&qid=1679428541&rnid=1389401031&ref=sr_nr_n_4\""
   ]
  },
  {
   "cell_type": "code",
   "execution_count": 13,
   "id": "c899c2b7",
   "metadata": {},
   "outputs": [],
   "source": [
    "r = requests.get(url)"
   ]
  },
  {
   "cell_type": "markdown",
   "id": "4aad39a2",
   "metadata": {},
   "source": [
    "3. Fetching html data of that page"
   ]
  },
  {
   "cell_type": "code",
   "execution_count": 14,
   "id": "a4b7094f",
   "metadata": {},
   "outputs": [],
   "source": [
    "soup = BeautifulSoup(r.text, \"lxml\")"
   ]
  },
  {
   "cell_type": "code",
   "execution_count": 16,
   "id": "8de23d79",
   "metadata": {},
   "outputs": [
    {
     "data": {
      "text/plain": [
       "<html>\n",
       "<head>\n",
       "<title>503 - Service Unavailable Error</title>\n",
       "</head>\n",
       "<body bgcolor=\"#FFFFFF\" text=\"#000000\">\n",
       "<!--\n",
       "        To discuss automated access to Amazon data please contact api-services-support@amazon.com.\n",
       "        For information about migrating to our APIs refer to our Marketplace APIs at https://developer.amazonservices.in/ref=rm_5_sv, or our Product Advertising API at https://affiliate-program.amazon.in/gp/advertising/api/detail/main.html/ref=rm_5_ac for advertising use cases.\n",
       "-->\n",
       "<center>\n",
       "<a href=\"https://www.amazon.in/ref=cs_503_logo/\">\n",
       "<img alt=\"Amazon.in\" border=\"0\" height=\"45\" src=\"https://images-eu.ssl-images-amazon.com/images/G/31/x-locale/communities/people/logo.gif\" width=\"200\"/></a>\n",
       "<p align=\"center\">\n",
       "<font face=\"Verdana,Arial,Helvetica\">\n",
       "<font color=\"#CC6600\" size=\"+2\"><b>Oops!</b></font><br/>\n",
       "<b>It's rush hour and traffic is piling up on that page. Please try again in a short while.<br/>If you were trying to place an order, it will not have been processed at this time.</b><p>\n",
       "<img alt=\"*\" border=\"0\" height=\"9\" src=\"https://images-eu.ssl-images-amazon.com/images/G/02/x-locale/common/orange-arrow.gif\" width=\"10\"/>\n",
       "<b><a href=\"https://www.amazon.in/ref=cs_503_link/\">Go to the Amazon.in home page to continue shopping</a></b>\n",
       "</p></font>\n",
       "</p></center>\n",
       "</body>\n",
       "</html>"
      ]
     },
     "execution_count": 16,
     "metadata": {},
     "output_type": "execute_result"
    }
   ],
   "source": [
    "soup\n"
   ]
  },
  {
   "cell_type": "markdown",
   "id": "d567b298",
   "metadata": {},
   "source": [
    "##### Error\n",
    "Amazon has secured it's data for web scrapping, therefore not able to access it.\n",
    "We' ll scrap other e-commerce website, trying flipkart"
   ]
  },
  {
   "cell_type": "markdown",
   "id": "58858f3f",
   "metadata": {},
   "source": [
    "------------\n",
    "Fetching url and getting data"
   ]
  },
  {
   "cell_type": "code",
   "execution_count": 22,
   "id": "33ac1829",
   "metadata": {},
   "outputs": [],
   "source": [
    "url = \"https://www.flipkart.com/search?q=mobiles+under+50000&otracker=search&otracker1=search&marketplace=FLIPKART&as-show=on&as=off&page=1\""
   ]
  },
  {
   "cell_type": "code",
   "execution_count": 34,
   "id": "fab12145",
   "metadata": {},
   "outputs": [],
   "source": [
    "r = requests.get(url)\n",
    "soup = BeautifulSoup(r.text, \"lxml\")\n",
    "box = soup.find(\"div\", class_ =\"_1YokD2 _3Mn1Gg\")"
   ]
  },
  {
   "cell_type": "markdown",
   "id": "98680b62",
   "metadata": {},
   "source": [
    "4. Fetching various data from page like product name, price, description and reviews\n"
   ]
  },
  {
   "cell_type": "code",
   "execution_count": 35,
   "id": "f6d829b4",
   "metadata": {},
   "outputs": [],
   "source": [
    "product_name = []\n",
    "price = []\n",
    "description = []\n",
    "reviews = []"
   ]
  },
  {
   "cell_type": "markdown",
   "id": "8a42510a",
   "metadata": {},
   "source": [
    "i. product names"
   ]
  },
  {
   "cell_type": "code",
   "execution_count": 36,
   "id": "cf985ed2",
   "metadata": {},
   "outputs": [
    {
     "data": {
      "text/plain": [
       "[<div class=\"_4rR01T\">SAMSUNG Galaxy S21 FE 5G (Lavender, 128 GB)</div>,\n",
       " <div class=\"_4rR01T\">SAMSUNG Galaxy S21 FE 5G (Olive, 128 GB)</div>,\n",
       " <div class=\"_4rR01T\">SAMSUNG Galaxy Z Flip3 5G (Phantom Black, 128 GB)</div>,\n",
       " <div class=\"_4rR01T\">Infinix HOT 20 5G (Racing Black, 64 GB)</div>,\n",
       " <div class=\"_4rR01T\">vivo V27 Pro 5G (Noble Black, 256 GB)</div>,\n",
       " <div class=\"_4rR01T\">vivo V27 Pro 5G (Magic Blue, 256 GB)</div>,\n",
       " <div class=\"_4rR01T\">APPLE iPhone 11 (White, 128 GB)</div>,\n",
       " <div class=\"_4rR01T\">itel MagicX Pro</div>,\n",
       " <div class=\"_4rR01T\">APPLE iPhone 11 (Black, 128 GB)</div>,\n",
       " <div class=\"_4rR01T\">SAMSUNG Galaxy Z Flip3 5G (Cream, 128 GB)</div>,\n",
       " <div class=\"_4rR01T\">SAMSUNG Galaxy A73 5G (Awesome Gray, 256 GB)</div>,\n",
       " <div class=\"_4rR01T\">Infinix Hot 20 5G (Blaster Green, 128 GB)</div>,\n",
       " <div class=\"_4rR01T\">OnePlus 9 5G (Winter Mist, 256 GB)</div>,\n",
       " <div class=\"_4rR01T\">APPLE iPhone 11 (Red, 128 GB)</div>,\n",
       " <div class=\"_4rR01T\">vivo X80 (Cosmic Black, 128 GB)</div>,\n",
       " <div class=\"_4rR01T\">Infinix Note 12 5G (Force Black, 64 GB)</div>,\n",
       " <div class=\"_4rR01T\">Mi 10T Pro (Cosmic Black, 128 GB)</div>,\n",
       " <div class=\"_4rR01T\">ASUS ROG 5s (Phantom Black, 256 GB)</div>,\n",
       " <div class=\"_4rR01T\">SAMSUNG Galaxy S20 FE 5G (Cloud Navy, 128 GB)</div>,\n",
       " <div class=\"_4rR01T\">Infinix Note 12 Pro 5G (Force Black, 128 GB)</div>,\n",
       " <div class=\"_4rR01T\">IQOO 9T 5G (LEGEND, 128 GB)</div>,\n",
       " <div class=\"_4rR01T\">Xiaomi 12 Pro 5G (Noir Black, 256 GB)</div>,\n",
       " <div class=\"_4rR01T\">Xiaomi 12 Pro 5G (Noir Black, 256 GB)</div>,\n",
       " <div class=\"_4rR01T\">Infinix Zero 5G 2023 (Pearly White, 128 GB)</div>]"
      ]
     },
     "execution_count": 36,
     "metadata": {},
     "output_type": "execute_result"
    }
   ],
   "source": [
    "names = box.find_all(\"div\", class_ = \"_4rR01T\")\n",
    "names"
   ]
  },
  {
   "cell_type": "markdown",
   "id": "c54ac120",
   "metadata": {},
   "source": [
    "for extracting only names of the product-"
   ]
  },
  {
   "cell_type": "code",
   "execution_count": 37,
   "id": "4c8bc316",
   "metadata": {},
   "outputs": [],
   "source": [
    "for i in names:\n",
    "    name = i.text\n",
    "    product_name.append(name)\n",
    "\n",
    "    "
   ]
  },
  {
   "cell_type": "code",
   "execution_count": 38,
   "id": "963053a4",
   "metadata": {},
   "outputs": [
    {
     "data": {
      "text/plain": [
       "['SAMSUNG Galaxy S21 FE 5G (Lavender, 128 GB)',\n",
       " 'SAMSUNG Galaxy S21 FE 5G (Olive, 128 GB)',\n",
       " 'SAMSUNG Galaxy Z Flip3 5G (Phantom Black, 128 GB)',\n",
       " 'Infinix HOT 20 5G (Racing Black, 64 GB)',\n",
       " 'vivo V27 Pro 5G (Noble Black, 256 GB)',\n",
       " 'vivo V27 Pro 5G (Magic Blue, 256 GB)',\n",
       " 'APPLE iPhone 11 (White, 128 GB)',\n",
       " 'itel MagicX Pro',\n",
       " 'APPLE iPhone 11 (Black, 128 GB)',\n",
       " 'SAMSUNG Galaxy Z Flip3 5G (Cream, 128 GB)',\n",
       " 'SAMSUNG Galaxy A73 5G (Awesome Gray, 256 GB)',\n",
       " 'Infinix Hot 20 5G (Blaster Green, 128 GB)',\n",
       " 'OnePlus 9 5G (Winter Mist, 256 GB)',\n",
       " 'APPLE iPhone 11 (Red, 128 GB)',\n",
       " 'vivo X80 (Cosmic Black, 128 GB)',\n",
       " 'Infinix Note 12 5G (Force Black, 64 GB)',\n",
       " 'Mi 10T Pro (Cosmic Black, 128 GB)',\n",
       " 'ASUS ROG 5s (Phantom Black, 256 GB)',\n",
       " 'SAMSUNG Galaxy S20 FE 5G (Cloud Navy, 128 GB)',\n",
       " 'Infinix Note 12 Pro 5G (Force Black, 128 GB)',\n",
       " 'IQOO 9T 5G (LEGEND, 128 GB)',\n",
       " 'Xiaomi 12 Pro 5G (Noir Black, 256 GB)',\n",
       " 'Xiaomi 12 Pro 5G (Noir Black, 256 GB)',\n",
       " 'Infinix Zero 5G 2023 (Pearly White, 128 GB)']"
      ]
     },
     "execution_count": 38,
     "metadata": {},
     "output_type": "execute_result"
    }
   ],
   "source": [
    "product_name"
   ]
  },
  {
   "cell_type": "markdown",
   "id": "c461b927",
   "metadata": {},
   "source": [
    "ii. prices"
   ]
  },
  {
   "cell_type": "code",
   "execution_count": 39,
   "id": "bf630464",
   "metadata": {},
   "outputs": [
    {
     "data": {
      "text/plain": [
       "['₹34,999',\n",
       " '₹34,999',\n",
       " '₹49,999',\n",
       " '₹11,499',\n",
       " '₹42,999',\n",
       " '₹42,999',\n",
       " '₹46,999',\n",
       " '₹2,649',\n",
       " '₹46,999',\n",
       " '₹49,999',\n",
       " '₹44,999',\n",
       " '₹13,499',\n",
       " '₹47,000',\n",
       " '₹47,999',\n",
       " '₹54,999',\n",
       " '₹14,999',\n",
       " '₹47,999',\n",
       " '₹47,999',\n",
       " '₹30,699',\n",
       " '₹17,599',\n",
       " '₹49,499',\n",
       " '₹49,270',\n",
       " '₹46,990',\n",
       " '₹17,299']"
      ]
     },
     "execution_count": 39,
     "metadata": {},
     "output_type": "execute_result"
    }
   ],
   "source": [
    "prices = box.find_all(\"div\", class_ = \"_30jeq3 _1_WHN1\")\n",
    "for i in prices:\n",
    "    p = i.text\n",
    "    price.append(p)\n",
    "price"
   ]
  },
  {
   "cell_type": "markdown",
   "id": "c950d99c",
   "metadata": {},
   "source": [
    "iii. description\n"
   ]
  },
  {
   "cell_type": "code",
   "execution_count": 40,
   "id": "9532b61b",
   "metadata": {},
   "outputs": [
    {
     "data": {
      "text/plain": [
       "['8 GB RAM | 128 GB ROM16.26 cm (6.4 inch) Full HD+ Display12MP + 12MP + 8MP (OIS) | 32MP Front Camera4500 mAh Lithium-ion Battery1 Year Manufacturer Warranty for Device and 6 Months Manufacturer Warranty for In-Box Accessories',\n",
       " '8 GB RAM | 128 GB ROM16.26 cm (6.4 inch) Full HD+ Display12MP + 12MP + 8MP (OIS) | 32MP Front Camera4500 mAh Lithium-ion Battery1 Year Manufacturer Warranty for Device and 6 Months Manufacturer Warranty for In-Box Accessories',\n",
       " '8 GB RAM | 128 GB ROM17.02 cm (6.7 inch) Full HD+ Display12MP + 12MP | 10MP Front Camera3300 mAh Lithium-ion BatteryQualcomm Snapdragon 888 Octa-Core Processor1 Year Manufacturer Warranty for Device and 6 months Manufacturer Warranty for In-Box Accessories',\n",
       " '4 GB RAM | 64 GB ROM | Expandable Upto 1 TB16.76 cm (6.6 inch) Full HD+ Display50MP + AI Lens | 8MP Front Camera5000 mAh Li-ion Polymer BatteryDimensity 810 Processor1 Year on Handset and 6 Months on Accessories',\n",
       " '12 GB RAM | 256 GB ROM17.22 cm (6.78 inch) Full HD+ Display50MP (OIS) + 8MP + 2MP | 50MP Front Camera4600 mAh BatteryMediatek Dimensity 8200 Processor1 Year Manufacturer Warranty for Phone and 6 Months Warranty for In the Box Accessories',\n",
       " '12 GB RAM | 256 GB ROM17.22 cm (6.78 inch) Full HD+ Display50MP (OIS) + 8MP + 2MP | 50MP Front Camera4600 mAh BatteryMediatek Dimensity 8200 Processor1 Year Manufacturer Warranty for Phone and 6 Months Warranty for In the Box Accessories',\n",
       " '128 GB ROM15.49 cm (6.1 inch) Liquid Retina HD Display12MP + 12MP | 12MP Front CameraA13 Bionic Chip ProcessorBrand Warranty of 1 Year',\n",
       " '64 MB RAM | 128 MB ROM6.1 cm (2.4 inch) Display0.3MP Rear Camera2500 mAh Battery2 Years Manufacturer Warranty on Device and 6 Months on Accessories',\n",
       " '128 GB ROM15.49 cm (6.1 inch) Liquid Retina HD Display12MP + 12MP | 12MP Front CameraA13 Bionic Chip ProcessorBrand Warranty of 1 Year',\n",
       " '8 GB RAM | 128 GB ROM17.02 cm (6.7 inch) Full HD+ Display12MP + 12MP | 10MP Front Camera3300 mAh Lithium-ion BatteryQualcomm Snapdragon 888 Octa-Core Processor1 Year Manufacturer Warranty for Device and 6 months Manufacturer Warranty for In-Box Accessories',\n",
       " '8 GB RAM | 256 GB ROM | Expandable Upto 1 TB17.02 cm (6.7 inch) Full HD+ Display108MP + 12MP + 5MP + 5MP | 32MP Front Camera5000 mAh Li-ion BatteryQualcomm Snapdragon 778G Processor1 Year Manufacturer Warranty for Device and 6 Months Manufacturer Warranty for In-Box',\n",
       " '6 GB RAM | 128 GB ROM | Expandable Upto 1 TB16.76 cm (6.6 inch) Full HD+ Display50MP + AI Lens | 8MP Front Camera5000 mAh Li-ion Polymer BatteryDimensity 810 Processor1 Year on Handset and 6 Months on Accessories',\n",
       " '12 GB RAM | 256 GB ROM16.64 cm (6.55 inch) Display48MP Rear Camera4500 mAh Battery1 Year',\n",
       " '128 GB ROM15.49 cm (6.1 inch) Liquid Retina HD Display12MP + 12MP | 12MP Front CameraA13 Bionic Chip ProcessorBrand Warranty of 1 Year',\n",
       " '8 GB RAM | 128 GB ROM17.22 cm (6.78 inch) Full HD+ Display50MP + 12MP + 12MP | 32MP Front Camera4500 mAh Lithium BatteryMediatek Dimensity 9000 Processor1 Year on Handset and 6 Months on Accessories',\n",
       " '6 GB RAM | 64 GB ROM | Expandable Upto 2 TB17.02 cm (6.7 inch) Full HD+ AMOLED Display50 MP + 2 MP Depth Lens + AI Lens | 16MP Front Camera5000 mAh Li-ion Polymer BatteryMediatek Dimensity 810 5G Processor1 Year on Handset and 6 Months on Accessories',\n",
       " '8 GB RAM | 128 GB ROM16.94 cm (6.67 inch) Full HD+ Display108MP + 13MP + 5MP | 20MP Front Camera5000 mAh Li-ion Polymer BatteryQualcomm Snapdragon 865 Processor144Hz Intelligent AdaptiveSync Display33W Dual Split Flash Charge1 Year Manufacturer Warranty for Device and 6 Months Manufacturer Warranty for In-box Accessories',\n",
       " '12 GB RAM | 256 GB ROM17.22 cm (6.78 inch) Full HD+ Display64MP + 13MP + 5MP | 24MP Front Camera6000 mAh Lithium Polymer BatteryQualcomm Snapdragon 888 Plus (SM8350) Processor1 Year Brand Warranty',\n",
       " '8 GB RAM | 128 GB ROM16.51 cm (6.5 inch) Display12MP Rear Camera4500 mAh Battery1 Year Warranty',\n",
       " '8 GB RAM | 128 GB ROM | Expandable Upto 2 TB17.02 cm (6.7 inch) Full HD+ AMOLED Display108MP + 2MP (Depth) + 2MP (Macro) | 16MP Front Camera5000 mAh Li-ion Polymer BatteryMediatek Dimensity 810 5G Processor1 Year on Handset and 6 Months on Accessories',\n",
       " '8 GB RAM | 128 GB ROM17.22 cm (6.78 inch) Display50MP Rear Camera4700 mAh Battery1 Year',\n",
       " '12 GB RAM | 256 GB ROM17.09 cm (6.73 inch) Full HD+ AMOLED Display50MP Rear Camera4600 mAh BatterySnapdragon@ 8 Gen 1 Processor12 Months',\n",
       " '8 GB RAM | 256 GB ROM17.09 cm (6.73 inch) Full HD+ AMOLED Display50MP Rear Camera4600 mAh BatterySnapdragon@ 8 Gen 1 Processor12 Months',\n",
       " '8 GB RAM | 128 GB ROM | Expandable Upto 256 GB17.22 cm (6.78 inch) Full HD+ Display50MP + 2MP + 2MP | 16MP Front Camera5000 mAh Lithium-ion Polymer BatteryMediatek Dimensity 920 Processor1 Year on Handset and 6 Months on Accessories']"
      ]
     },
     "execution_count": 40,
     "metadata": {},
     "output_type": "execute_result"
    }
   ],
   "source": [
    "descriptions = box.find_all(\"ul\", class_ = \"_1xgFaf\")\n",
    "for i in descriptions:\n",
    "    desc = i.text\n",
    "    description.append(desc)\n",
    "    \n",
    "description"
   ]
  },
  {
   "cell_type": "markdown",
   "id": "09c27e7b",
   "metadata": {},
   "source": [
    "iv. Reviews"
   ]
  },
  {
   "cell_type": "code",
   "execution_count": 41,
   "id": "929f1fda",
   "metadata": {},
   "outputs": [
    {
     "data": {
      "text/plain": [
       "['4.4',\n",
       " '4.4',\n",
       " '4.4',\n",
       " '4.3',\n",
       " '4.4',\n",
       " '4.4',\n",
       " '4.6',\n",
       " '3.9',\n",
       " '4.6',\n",
       " '4.4',\n",
       " '4.2',\n",
       " '4.2',\n",
       " '4',\n",
       " '4.6',\n",
       " '4.5',\n",
       " '4.2',\n",
       " '4.2',\n",
       " '4.2',\n",
       " '4',\n",
       " '4.1',\n",
       " '4.1',\n",
       " '4.3',\n",
       " '4.1',\n",
       " '4.1']"
      ]
     },
     "execution_count": 41,
     "metadata": {},
     "output_type": "execute_result"
    }
   ],
   "source": [
    "review = box.find_all(\"div\", class_ = \"_3LWZlK\")\n",
    "for i in review:\n",
    "    r = i.text\n",
    "    reviews.append(r)\n",
    "    \n",
    "reviews"
   ]
  },
  {
   "cell_type": "markdown",
   "id": "9cc79258",
   "metadata": {},
   "source": [
    "5. Creating Dataframe"
   ]
  },
  {
   "cell_type": "code",
   "execution_count": 42,
   "id": "4b9ada6d",
   "metadata": {},
   "outputs": [
    {
     "data": {
      "text/html": [
       "<div>\n",
       "<style scoped>\n",
       "    .dataframe tbody tr th:only-of-type {\n",
       "        vertical-align: middle;\n",
       "    }\n",
       "\n",
       "    .dataframe tbody tr th {\n",
       "        vertical-align: top;\n",
       "    }\n",
       "\n",
       "    .dataframe thead th {\n",
       "        text-align: right;\n",
       "    }\n",
       "</style>\n",
       "<table border=\"1\" class=\"dataframe\">\n",
       "  <thead>\n",
       "    <tr style=\"text-align: right;\">\n",
       "      <th></th>\n",
       "      <th>Product Names</th>\n",
       "      <th>Prices</th>\n",
       "      <th>Description</th>\n",
       "      <th>Reviews</th>\n",
       "    </tr>\n",
       "  </thead>\n",
       "  <tbody>\n",
       "    <tr>\n",
       "      <th>0</th>\n",
       "      <td>SAMSUNG Galaxy S21 FE 5G (Lavender, 128 GB)</td>\n",
       "      <td>₹34,999</td>\n",
       "      <td>8 GB RAM | 128 GB ROM16.26 cm (6.4 inch) Full ...</td>\n",
       "      <td>4.4</td>\n",
       "    </tr>\n",
       "    <tr>\n",
       "      <th>1</th>\n",
       "      <td>SAMSUNG Galaxy S21 FE 5G (Olive, 128 GB)</td>\n",
       "      <td>₹34,999</td>\n",
       "      <td>8 GB RAM | 128 GB ROM16.26 cm (6.4 inch) Full ...</td>\n",
       "      <td>4.4</td>\n",
       "    </tr>\n",
       "    <tr>\n",
       "      <th>2</th>\n",
       "      <td>SAMSUNG Galaxy Z Flip3 5G (Phantom Black, 128 GB)</td>\n",
       "      <td>₹49,999</td>\n",
       "      <td>8 GB RAM | 128 GB ROM17.02 cm (6.7 inch) Full ...</td>\n",
       "      <td>4.4</td>\n",
       "    </tr>\n",
       "    <tr>\n",
       "      <th>3</th>\n",
       "      <td>Infinix HOT 20 5G (Racing Black, 64 GB)</td>\n",
       "      <td>₹11,499</td>\n",
       "      <td>4 GB RAM | 64 GB ROM | Expandable Upto 1 TB16....</td>\n",
       "      <td>4.3</td>\n",
       "    </tr>\n",
       "    <tr>\n",
       "      <th>4</th>\n",
       "      <td>vivo V27 Pro 5G (Noble Black, 256 GB)</td>\n",
       "      <td>₹42,999</td>\n",
       "      <td>12 GB RAM | 256 GB ROM17.22 cm (6.78 inch) Ful...</td>\n",
       "      <td>4.4</td>\n",
       "    </tr>\n",
       "    <tr>\n",
       "      <th>5</th>\n",
       "      <td>vivo V27 Pro 5G (Magic Blue, 256 GB)</td>\n",
       "      <td>₹42,999</td>\n",
       "      <td>12 GB RAM | 256 GB ROM17.22 cm (6.78 inch) Ful...</td>\n",
       "      <td>4.4</td>\n",
       "    </tr>\n",
       "    <tr>\n",
       "      <th>6</th>\n",
       "      <td>APPLE iPhone 11 (White, 128 GB)</td>\n",
       "      <td>₹46,999</td>\n",
       "      <td>128 GB ROM15.49 cm (6.1 inch) Liquid Retina HD...</td>\n",
       "      <td>4.6</td>\n",
       "    </tr>\n",
       "    <tr>\n",
       "      <th>7</th>\n",
       "      <td>itel MagicX Pro</td>\n",
       "      <td>₹2,649</td>\n",
       "      <td>64 MB RAM | 128 MB ROM6.1 cm (2.4 inch) Displa...</td>\n",
       "      <td>3.9</td>\n",
       "    </tr>\n",
       "    <tr>\n",
       "      <th>8</th>\n",
       "      <td>APPLE iPhone 11 (Black, 128 GB)</td>\n",
       "      <td>₹46,999</td>\n",
       "      <td>128 GB ROM15.49 cm (6.1 inch) Liquid Retina HD...</td>\n",
       "      <td>4.6</td>\n",
       "    </tr>\n",
       "    <tr>\n",
       "      <th>9</th>\n",
       "      <td>SAMSUNG Galaxy Z Flip3 5G (Cream, 128 GB)</td>\n",
       "      <td>₹49,999</td>\n",
       "      <td>8 GB RAM | 128 GB ROM17.02 cm (6.7 inch) Full ...</td>\n",
       "      <td>4.4</td>\n",
       "    </tr>\n",
       "    <tr>\n",
       "      <th>10</th>\n",
       "      <td>SAMSUNG Galaxy A73 5G (Awesome Gray, 256 GB)</td>\n",
       "      <td>₹44,999</td>\n",
       "      <td>8 GB RAM | 256 GB ROM | Expandable Upto 1 TB17...</td>\n",
       "      <td>4.2</td>\n",
       "    </tr>\n",
       "    <tr>\n",
       "      <th>11</th>\n",
       "      <td>Infinix Hot 20 5G (Blaster Green, 128 GB)</td>\n",
       "      <td>₹13,499</td>\n",
       "      <td>6 GB RAM | 128 GB ROM | Expandable Upto 1 TB16...</td>\n",
       "      <td>4.2</td>\n",
       "    </tr>\n",
       "    <tr>\n",
       "      <th>12</th>\n",
       "      <td>OnePlus 9 5G (Winter Mist, 256 GB)</td>\n",
       "      <td>₹47,000</td>\n",
       "      <td>12 GB RAM | 256 GB ROM16.64 cm (6.55 inch) Dis...</td>\n",
       "      <td>4</td>\n",
       "    </tr>\n",
       "    <tr>\n",
       "      <th>13</th>\n",
       "      <td>APPLE iPhone 11 (Red, 128 GB)</td>\n",
       "      <td>₹47,999</td>\n",
       "      <td>128 GB ROM15.49 cm (6.1 inch) Liquid Retina HD...</td>\n",
       "      <td>4.6</td>\n",
       "    </tr>\n",
       "    <tr>\n",
       "      <th>14</th>\n",
       "      <td>vivo X80 (Cosmic Black, 128 GB)</td>\n",
       "      <td>₹54,999</td>\n",
       "      <td>8 GB RAM | 128 GB ROM17.22 cm (6.78 inch) Full...</td>\n",
       "      <td>4.5</td>\n",
       "    </tr>\n",
       "    <tr>\n",
       "      <th>15</th>\n",
       "      <td>Infinix Note 12 5G (Force Black, 64 GB)</td>\n",
       "      <td>₹14,999</td>\n",
       "      <td>6 GB RAM | 64 GB ROM | Expandable Upto 2 TB17....</td>\n",
       "      <td>4.2</td>\n",
       "    </tr>\n",
       "    <tr>\n",
       "      <th>16</th>\n",
       "      <td>Mi 10T Pro (Cosmic Black, 128 GB)</td>\n",
       "      <td>₹47,999</td>\n",
       "      <td>8 GB RAM | 128 GB ROM16.94 cm (6.67 inch) Full...</td>\n",
       "      <td>4.2</td>\n",
       "    </tr>\n",
       "    <tr>\n",
       "      <th>17</th>\n",
       "      <td>ASUS ROG 5s (Phantom Black, 256 GB)</td>\n",
       "      <td>₹47,999</td>\n",
       "      <td>12 GB RAM | 256 GB ROM17.22 cm (6.78 inch) Ful...</td>\n",
       "      <td>4.2</td>\n",
       "    </tr>\n",
       "    <tr>\n",
       "      <th>18</th>\n",
       "      <td>SAMSUNG Galaxy S20 FE 5G (Cloud Navy, 128 GB)</td>\n",
       "      <td>₹30,699</td>\n",
       "      <td>8 GB RAM | 128 GB ROM16.51 cm (6.5 inch) Displ...</td>\n",
       "      <td>4</td>\n",
       "    </tr>\n",
       "    <tr>\n",
       "      <th>19</th>\n",
       "      <td>Infinix Note 12 Pro 5G (Force Black, 128 GB)</td>\n",
       "      <td>₹17,599</td>\n",
       "      <td>8 GB RAM | 128 GB ROM | Expandable Upto 2 TB17...</td>\n",
       "      <td>4.1</td>\n",
       "    </tr>\n",
       "    <tr>\n",
       "      <th>20</th>\n",
       "      <td>IQOO 9T 5G (LEGEND, 128 GB)</td>\n",
       "      <td>₹49,499</td>\n",
       "      <td>8 GB RAM | 128 GB ROM17.22 cm (6.78 inch) Disp...</td>\n",
       "      <td>4.1</td>\n",
       "    </tr>\n",
       "    <tr>\n",
       "      <th>21</th>\n",
       "      <td>Xiaomi 12 Pro 5G (Noir Black, 256 GB)</td>\n",
       "      <td>₹49,270</td>\n",
       "      <td>12 GB RAM | 256 GB ROM17.09 cm (6.73 inch) Ful...</td>\n",
       "      <td>4.3</td>\n",
       "    </tr>\n",
       "    <tr>\n",
       "      <th>22</th>\n",
       "      <td>Xiaomi 12 Pro 5G (Noir Black, 256 GB)</td>\n",
       "      <td>₹46,990</td>\n",
       "      <td>8 GB RAM | 256 GB ROM17.09 cm (6.73 inch) Full...</td>\n",
       "      <td>4.1</td>\n",
       "    </tr>\n",
       "    <tr>\n",
       "      <th>23</th>\n",
       "      <td>Infinix Zero 5G 2023 (Pearly White, 128 GB)</td>\n",
       "      <td>₹17,299</td>\n",
       "      <td>8 GB RAM | 128 GB ROM | Expandable Upto 256 GB...</td>\n",
       "      <td>4.1</td>\n",
       "    </tr>\n",
       "  </tbody>\n",
       "</table>\n",
       "</div>"
      ],
      "text/plain": [
       "                                        Product Names   Prices  \\\n",
       "0         SAMSUNG Galaxy S21 FE 5G (Lavender, 128 GB)  ₹34,999   \n",
       "1            SAMSUNG Galaxy S21 FE 5G (Olive, 128 GB)  ₹34,999   \n",
       "2   SAMSUNG Galaxy Z Flip3 5G (Phantom Black, 128 GB)  ₹49,999   \n",
       "3             Infinix HOT 20 5G (Racing Black, 64 GB)  ₹11,499   \n",
       "4               vivo V27 Pro 5G (Noble Black, 256 GB)  ₹42,999   \n",
       "5                vivo V27 Pro 5G (Magic Blue, 256 GB)  ₹42,999   \n",
       "6                     APPLE iPhone 11 (White, 128 GB)  ₹46,999   \n",
       "7                                     itel MagicX Pro   ₹2,649   \n",
       "8                     APPLE iPhone 11 (Black, 128 GB)  ₹46,999   \n",
       "9           SAMSUNG Galaxy Z Flip3 5G (Cream, 128 GB)  ₹49,999   \n",
       "10       SAMSUNG Galaxy A73 5G (Awesome Gray, 256 GB)  ₹44,999   \n",
       "11          Infinix Hot 20 5G (Blaster Green, 128 GB)  ₹13,499   \n",
       "12                 OnePlus 9 5G (Winter Mist, 256 GB)  ₹47,000   \n",
       "13                      APPLE iPhone 11 (Red, 128 GB)  ₹47,999   \n",
       "14                    vivo X80 (Cosmic Black, 128 GB)  ₹54,999   \n",
       "15            Infinix Note 12 5G (Force Black, 64 GB)  ₹14,999   \n",
       "16                  Mi 10T Pro (Cosmic Black, 128 GB)  ₹47,999   \n",
       "17                ASUS ROG 5s (Phantom Black, 256 GB)  ₹47,999   \n",
       "18      SAMSUNG Galaxy S20 FE 5G (Cloud Navy, 128 GB)  ₹30,699   \n",
       "19       Infinix Note 12 Pro 5G (Force Black, 128 GB)  ₹17,599   \n",
       "20                        IQOO 9T 5G (LEGEND, 128 GB)  ₹49,499   \n",
       "21              Xiaomi 12 Pro 5G (Noir Black, 256 GB)  ₹49,270   \n",
       "22              Xiaomi 12 Pro 5G (Noir Black, 256 GB)  ₹46,990   \n",
       "23        Infinix Zero 5G 2023 (Pearly White, 128 GB)  ₹17,299   \n",
       "\n",
       "                                          Description Reviews  \n",
       "0   8 GB RAM | 128 GB ROM16.26 cm (6.4 inch) Full ...     4.4  \n",
       "1   8 GB RAM | 128 GB ROM16.26 cm (6.4 inch) Full ...     4.4  \n",
       "2   8 GB RAM | 128 GB ROM17.02 cm (6.7 inch) Full ...     4.4  \n",
       "3   4 GB RAM | 64 GB ROM | Expandable Upto 1 TB16....     4.3  \n",
       "4   12 GB RAM | 256 GB ROM17.22 cm (6.78 inch) Ful...     4.4  \n",
       "5   12 GB RAM | 256 GB ROM17.22 cm (6.78 inch) Ful...     4.4  \n",
       "6   128 GB ROM15.49 cm (6.1 inch) Liquid Retina HD...     4.6  \n",
       "7   64 MB RAM | 128 MB ROM6.1 cm (2.4 inch) Displa...     3.9  \n",
       "8   128 GB ROM15.49 cm (6.1 inch) Liquid Retina HD...     4.6  \n",
       "9   8 GB RAM | 128 GB ROM17.02 cm (6.7 inch) Full ...     4.4  \n",
       "10  8 GB RAM | 256 GB ROM | Expandable Upto 1 TB17...     4.2  \n",
       "11  6 GB RAM | 128 GB ROM | Expandable Upto 1 TB16...     4.2  \n",
       "12  12 GB RAM | 256 GB ROM16.64 cm (6.55 inch) Dis...       4  \n",
       "13  128 GB ROM15.49 cm (6.1 inch) Liquid Retina HD...     4.6  \n",
       "14  8 GB RAM | 128 GB ROM17.22 cm (6.78 inch) Full...     4.5  \n",
       "15  6 GB RAM | 64 GB ROM | Expandable Upto 2 TB17....     4.2  \n",
       "16  8 GB RAM | 128 GB ROM16.94 cm (6.67 inch) Full...     4.2  \n",
       "17  12 GB RAM | 256 GB ROM17.22 cm (6.78 inch) Ful...     4.2  \n",
       "18  8 GB RAM | 128 GB ROM16.51 cm (6.5 inch) Displ...       4  \n",
       "19  8 GB RAM | 128 GB ROM | Expandable Upto 2 TB17...     4.1  \n",
       "20  8 GB RAM | 128 GB ROM17.22 cm (6.78 inch) Disp...     4.1  \n",
       "21  12 GB RAM | 256 GB ROM17.09 cm (6.73 inch) Ful...     4.3  \n",
       "22  8 GB RAM | 256 GB ROM17.09 cm (6.73 inch) Full...     4.1  \n",
       "23  8 GB RAM | 128 GB ROM | Expandable Upto 256 GB...     4.1  "
      ]
     },
     "execution_count": 42,
     "metadata": {},
     "output_type": "execute_result"
    }
   ],
   "source": [
    "df = pd.DataFrame({\"Product Names\":product_name, \"Prices\":price, \"Description\":description, \"Reviews\":reviews})\n",
    "df"
   ]
  },
  {
   "cell_type": "code",
   "execution_count": 43,
   "id": "cd34bea2",
   "metadata": {},
   "outputs": [],
   "source": [
    "df.to_csv(\"flipkart_mobiles_under_50000.csv\")"
   ]
  }
 ],
 "metadata": {
  "kernelspec": {
   "display_name": "Python 3 (ipykernel)",
   "language": "python",
   "name": "python3"
  },
  "language_info": {
   "codemirror_mode": {
    "name": "ipython",
    "version": 3
   },
   "file_extension": ".py",
   "mimetype": "text/x-python",
   "name": "python",
   "nbconvert_exporter": "python",
   "pygments_lexer": "ipython3",
   "version": "3.9.13"
  }
 },
 "nbformat": 4,
 "nbformat_minor": 5
}
